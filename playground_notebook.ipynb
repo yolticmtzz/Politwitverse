{
 "cells": [
  {
   "cell_type": "code",
   "execution_count": 28,
   "metadata": {},
   "outputs": [
    {
     "name": "stdout",
     "output_type": "stream",
     "text": [
      "This child from Missouri is severely ill from COVID. The red ECMO tubes from his neck allow blood to bypass his heart &amp; damaged lungs. His windpipe was cut to place him on breathing machine longterm. He exercises to gain strength #TheySurvivedCovid \n",
      "https://t.co/ZCRJkggENL\n"
     ]
    }
   ],
   "source": [
    "import tweepy\n",
    "import os\n",
    "import config\n",
    "\n",
    "consumer_key = config.consumer_key\n",
    "consumer_secret = config.consumer_secret\n",
    "access_token = config.access_token\n",
    "access_token_secret = config.access_token_secret\n",
    "bearer_token = config.bearer_token\n",
    "\n",
    "client = tweepy.Client(bearer_token=bearer_token)\n",
    "\n",
    "query = \"covid lang:en\"\n",
    "\n",
    "response = client.search_recent_tweets(query=query,tweet_fields=['attachments','author_id','context_annotations','conversation_id','created_at','entities','geo,id','in_reply_to_user_id','lang','possibly_sensitive','public_metrics','referenced_tweets','reply_settings','source','text','withheld'],user_fields=['created_at','description','entities,id','location','name','pinned_tweet_id','profile_image_url','protected,public_metrics','url','username','verified','withheld'],expansions=['attachments.poll_ids','attachments.media_keys','author_id','geo.place_id','in_reply_to_user_id','referenced_tweets.id','entities.mentions.username','referenced_tweets.id.author_id'],max_results=100)\n",
    "\n",
    "# users = {u['id']: u for u in response.includes['users']}         \n",
    "# for tweet in response.data:  \n",
    "#     if users[tweet.author_id]:\n",
    "#         user = users[tweet.author_id]\n",
    "#     print(user.name)\n",
    "#     print(user.username)\n",
    "#     ref_tweets = tweet.referenced_tweets\n",
    "#     if tweet.referenced_tweets:\n",
    "#         print(tweet.referenced_tweets)\n",
    "#         print(type(tweet.referenced_tweets))\n",
    "#         print(len(tweet.referenced_tweets))\n",
    "\n",
    "reftweet = client.get_tweet('1484932208427163650')\n",
    "print(reftweet.data)\n",
    "\n"
   ]
  }
 ],
 "metadata": {
  "interpreter": {
   "hash": "33db5c7e3bb784b844c2c176e5e511469c44d8edbdec04c9eaa139fbb1e863e8"
  },
  "kernelspec": {
   "display_name": "Python 3.9.10 64-bit",
   "language": "python",
   "name": "python3"
  },
  "language_info": {
   "codemirror_mode": {
    "name": "ipython",
    "version": 3
   },
   "file_extension": ".py",
   "mimetype": "text/x-python",
   "name": "python",
   "nbconvert_exporter": "python",
   "pygments_lexer": "ipython3",
   "version": "3.9.10"
  },
  "orig_nbformat": 4
 },
 "nbformat": 4,
 "nbformat_minor": 2
}
