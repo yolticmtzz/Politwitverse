{
 "cells": [
  {
   "cell_type": "code",
   "execution_count": 2,
   "metadata": {},
   "outputs": [],
   "source": [
    "\n",
    "import tweepy\n",
    "\n",
    "client = tweepy.Client(bearer_token='AAAAAAAAAAAAAAAAAAAAAGPIWwEAAAAANh02yZK%2Bg2Ga9OaIGmo%2FdcBKwI4%3DoBVTm4dbV9EsX06kTvtAz5XjSCK222TAxusnGUposUxAGoEFqg')\n"
   ]
  },
  {
   "cell_type": "code",
   "execution_count": 23,
   "metadata": {},
   "outputs": [],
   "source": [
    "client = tweepy.Client(bearer_token='AAAAAAAAAAAAAAAAAAAAAGPIWwEAAAAAQ6Wu3fVaVsdg4PHyN7ktSku8u8g%3DMWmLEo5o3YPP0HsKRrX5S1UcKAnemvF2UVPG5Sp6S2qXRFNB9j')\n",
    "\n",
    "query = \"republicans -is:retweet lang:en\"\n",
    "\n",
    "response = client.search_recent_tweets(query, end_time=\"2022-01-27T01:01:35+00:00\", expansions=['author_id'], max_results=10)\n",
    "metadata = response.meta\n",
    "next_token = metadata.get('next_token')\n",
    "metadata = response.meta\n",
    "while next_token is not None:\n",
    "     for tweet in response.data:\n",
    "         print(tweet.id)\n",
    "         print(tweet.created_at)\n",
    "         print(tweet.text)\n",
    "print(\"----------------------------------------------------------------\")\n",
    "metadata = response.meta\n",
    "next_token = metadata.get('next_token')\n",
    "response = client.search_recent_tweets(query,end_time=\"2022-01-27T01:01:35+00:00\", expansions=['authoer_id'], max_results=10, next_token=next_token)\n",
    "print(response)\n",
    "\n",
    "# client.search_recent_tweets(query, *, end_time, expansions, max_results, media_fields, next_token, place_fields, poll_fields, since_id, start_time, tweet_fields, until_id, user_fields, user_auth=False)\n",
    "\n",
    "\n",
    "    #max_results=10,media_fields=[],next_token=next_token, tweet_fields=['author_id','created_at'] user_fields=['created_at', 'name']\n",
    "    \n",
    "    # Client.search_recent_tweets(query, *, end_time, expansions, max_results, media_fields, next_token, place_fields, poll_fields, since_id, start_time, tweet_fields, until_id, user_fields, user_auth=False)\n",
    "        \n",
    "    \n",
    "\n",
    "\n",
    "\n",
    "    "
   ]
  }
 ],
 "metadata": {
  "interpreter": {
   "hash": "33db5c7e3bb784b844c2c176e5e511469c44d8edbdec04c9eaa139fbb1e863e8"
  },
  "kernelspec": {
   "display_name": "Python 3.9.10 64-bit",
   "language": "python",
   "name": "python3"
  },
  "language_info": {
   "codemirror_mode": {
    "name": "ipython",
    "version": 3
   },
   "file_extension": ".py",
   "mimetype": "text/x-python",
   "name": "python",
   "nbconvert_exporter": "python",
   "pygments_lexer": "ipython3",
   "version": "3.9.10"
  },
  "orig_nbformat": 4
 },
 "nbformat": 4,
 "nbformat_minor": 2
}
