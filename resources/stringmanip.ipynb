{
 "cells": [
  {
   "cell_type": "code",
   "execution_count": 8,
   "metadata": {},
   "outputs": [
    {
     "name": "stdout",
     "output_type": "stream",
     "text": [
      " 'Person'\n",
      " 'Donald Trump'\n"
     ]
    }
   ],
   "source": [
    "def hydrate_domains(context_list):\n",
    "    alist = []\n",
    "    x = 0\n",
    "    i = 0\n",
    "    soup_length = len(context_list)\n",
    "    while i <= soup_length:\n",
    "        temp_list = context_list[x]\n",
    "        d = temp_list[x]\n",
    "        text = str(d)\n",
    "        # text = text.replace(\"{\", \"\").replace(\"}\", \"\")\n",
    "        # text = text.replace(\":\", \",\")\n",
    "        # dlist = text.split(\",\")\n",
    "        text = text.replace(\"{\", \"\").replace(\"}\", \"\")\n",
    "        text = text.replace(\":\", \",\")\n",
    "        text = text.replace('\"', \"\")\n",
    "        text = text.replace(\",\", \"\")\n",
    "        dlist = shlex.split(text)\n",
    "        n = dlist[11]\n",
    "        alist.append(n)\n",
    "        i = i + 1\n",
    "        x = x + 1\n",
    "    return(alist)"
   ]
  },
  {
   "cell_type": "code",
   "execution_count": 89,
   "metadata": {},
   "outputs": [
    {
     "name": "stdout",
     "output_type": "stream",
     "text": [
      "['domain', 'id', '10', 'name', 'Person', 'description', 'Named people in the world like Nelson Mandela', 'entity', 'id', '888190307216506881', 'name', 'Joe Manchin', 'description', 'US Senator Joe Manchin (WV)', 'domain', 'id', '35', 'name', 'Politician', 'description', 'Politicians in the world', 'like Joe Biden', 'entity', 'id', '888190307216506881', 'name', 'Joe Manchin', 'description', 'US Senator Joe Manchin (WV)', 'domain', 'id', '88', 'name', 'Political Body', 'description', 'A section of a government', 'like The Supreme Court', 'entity', 'id', '867872043672326144', 'name', 'Supreme Court of the United States', 'description', 'Conversation about the Supreme Court and justices']\n",
      "['Person', 'Joe Manchin', 'Politician', 'Joe Manchin', 'Political Body', 'Supreme Court of the United States']\n"
     ]
    }
   ],
   "source": [
    "text = \"\"\"{'domain': {'id': '10', 'name': 'Person', 'description': 'Named people in the world like Nelson Mandela'}, 'entity': {'id': '888190307216506881', 'name': 'Joe Manchin', 'description': 'US Senator Joe Manchin (WV)'}}, {'domain': {'id': '35', 'name': 'Politician', 'description': 'Politicians in the world, like Joe Biden'}, 'entity': {'id': '888190307216506881', 'name': 'Joe Manchin', 'description': 'US Senator Joe Manchin (WV)'}}, {'domain': {'id': '88', 'name': 'Political Body', 'description': 'A section of a government, like The Supreme Court'}, 'entity': {'id': '867872043672326144', 'name': 'Supreme Court of the United States', 'description': 'Conversation about the Supreme Court and justices'}}\"\"\"\n",
    "\n",
    "elist = []\n",
    "text = text.replace(\"{\", \"\").replace(\"}\", \"\")\n",
    "text = text.replace(\":\", \",\")\n",
    "text = text.replace('\"', \"\").replace(\"'\", \"\")\n",
    "text = text.replace(\", \", \",\")\n",
    "text = text.split(\",\")\n",
    "print(text)\n",
    "i = 1\n",
    "x = 0\n",
    "while i <= len(text):\n",
    "     if text[x] == 'name':\n",
    "         elist.append(text[x+1])         \n",
    "     x = x + 1\n",
    "     i = i + 1\n",
    "print(elist)\n"
   ]
  }
 ],
 "metadata": {
  "interpreter": {
   "hash": "33db5c7e3bb784b844c2c176e5e511469c44d8edbdec04c9eaa139fbb1e863e8"
  },
  "kernelspec": {
   "display_name": "Python 3.9.10 64-bit",
   "language": "python",
   "name": "python3"
  },
  "language_info": {
   "codemirror_mode": {
    "name": "ipython",
    "version": 3
   },
   "file_extension": ".py",
   "mimetype": "text/x-python",
   "name": "python",
   "nbconvert_exporter": "python",
   "pygments_lexer": "ipython3",
   "version": "3.9.10"
  },
  "orig_nbformat": 4
 },
 "nbformat": 4,
 "nbformat_minor": 2
}
