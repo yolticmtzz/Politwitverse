{
 "cells": [
  {
   "cell_type": "code",
   "execution_count": 2,
   "metadata": {},
   "outputs": [
    {
     "name": "stdout",
     "output_type": "stream",
     "text": [
      "AAAAAAAAAAAAAAAAAAAAAGPIWwEAAAAAQ6Wu3fVaVsdg4PHyN7ktSku8u8g%3DMWmLEo5o3YPP0HsKRrX5S1UcKAnemvF2UVPG5Sp6S2qXRFNB9j\n"
     ]
    }
   ],
   "source": [
    "import requests\n",
    "import os\n",
    "import json\n",
    "import requests\n",
    "import time\n",
    "\n",
    "consumer_key = os.getenv(\"CONSUMER_KEY\")\n",
    "consumer_secret = os.getenv(\"CONSUMER_SECRET\")\n",
    "access_token = os.getenv(\"CLIENT_ID\")\n",
    "access_token_secret = os.getenv(\"CLIENT_SECRET\")\n",
    "bearer_token = os.getenv(\"BEARER_TOKEN\")\n",
    "\n",
    "# To set your enviornment variables in your terminal run the following line:\n",
    "# export 'BEARER_TOKEN'='<your_bearer_token>'\n",
    "bearer_token = bearer_token\n",
    "print(bearer_token)"
   ]
  },
  {
   "cell_type": "code",
   "execution_count": 3,
   "metadata": {},
   "outputs": [],
   "source": [
    "search_url = \"https://api.twitter.com/2/tweets/search/recent\"\n",
    "clist = []\n",
    "\n",
    "# Optional params: start_time,end_time,since_id,until_id,max_results,next_token,\n",
    "# expansions,tweet.fields,media.fields,poll.fields,place.fields,user.fields\n",
    "params = {'query': 'missouri schools -is:retweet','tweet.fields': 'author_id,context_annotations', 'user.fields': 'name,location,description,created_at', 'expansions': 'author_id'}\n",
    "def bearer_oauth(r):\n",
    "    \"\"\"\n",
    "    Method required by bearer token authentication.\n",
    "    \"\"\"\n",
    "\n",
    "    r.headers[\"Authorization\"] = f\"Bearer {bearer_token}\"\n",
    "    r.headers[\"User-Agent\"] = \"v2RecentSearchPython\"\n",
    "    return r\n",
    "\n",
    "response = requests.request(\"GET\", search_url, auth=bearer_oauth, params=params)\n",
    "print(response.status_code)\n",
    "if response.status_code != 200:\n",
    "    raise Exception(response.status_code, response.text)\n",
    "\n",
    "response_payload = response.json()\n",
    "\n",
    "while True:\n",
    "    users = {u['id']: u for u in response_payload['includes']['users']} \n",
    "    for tweet in response_payload['data']:          \n",
    "        if tweet['author_id'] in users:\n",
    "            user = tweet['author_id']\n",
    "        print(tweet['text'])\n",
    "        print(users[user]['username'])\n",
    "        \n",
    "        # if 'context_annotations' in tweet:\n",
    "        #     for annotations in tweet['context_annotations']:\n",
    "        #         domain_name = annotations['domain']['name']\n",
    "        #         clist.append(domain_name)\n",
    "        #         entity_name = annotations['entity']['name']\n",
    "        #         clist.append(entity_name)\n",
    "        # print(clist)\n",
    "    # meta = response_payload[\"meta\"]\n",
    "    # next_token = meta[\"next_token\"]\n",
    "    # params.update(next_token=next_token)\n",
    "    # print(\"--------------------------------------------------------\")\n",
    "    # time.sleep(1)\n",
    "\n",
    "# print(response.json())\n",
    "# print(type(response.json()))\n",
    "\n",
    "#users =  user in response_payload['includes']['users']\n",
    "\n",
    "# for tweet in response[‘data’]:\n",
    "# print(tweet[‘text’])\n",
    "# if “context_annotations” in tweet:\n",
    "# for annotation in tweet[“context_annotations”]:\n",
    "# print(annotation[“domain”][“name”])\n",
    "# print(annotation[“entity”][“name”])\n"
   ]
  }
 ],
 "metadata": {
  "interpreter": {
   "hash": "33db5c7e3bb784b844c2c176e5e511469c44d8edbdec04c9eaa139fbb1e863e8"
  },
  "kernelspec": {
   "display_name": "Python 3.9.10 64-bit",
   "language": "python",
   "name": "python3"
  },
  "language_info": {
   "codemirror_mode": {
    "name": "ipython",
    "version": 3
   },
   "file_extension": ".py",
   "mimetype": "text/x-python",
   "name": "python",
   "nbconvert_exporter": "python",
   "pygments_lexer": "ipython3",
   "version": "3.9.10"
  },
  "orig_nbformat": 4
 },
 "nbformat": 4,
 "nbformat_minor": 2
}
