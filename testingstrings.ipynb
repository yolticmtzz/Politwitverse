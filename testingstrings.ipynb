{
 "cells": [
  {
   "cell_type": "code",
   "execution_count": 16,
   "metadata": {},
   "outputs": [
    {
     "name": "stdout",
     "output_type": "stream",
     "text": [
      "1486556766758264833 retweeted\n",
      "['1486556766758264833', 'retweeted']\n",
      "1486556766758264833\n"
     ]
    }
   ],
   "source": [
    "string = \"[<ReferencedTweet id=1486556766758264833 type=retweeted]\"\n",
    "\n",
    "string = string.replace(\"<ReferencedTweet \", \"\")\n",
    "string = string.replace(\"id=\", \"\").replace(\"type=\", \"\")\n",
    "string = string.replace(\"[\", \"\").replace(\"]\", \"\")\n",
    "print(string)\n",
    "string = string.split(\" \")\n",
    "print(string)\n",
    "print(string[0])\n"
   ]
  }
 ],
 "metadata": {
  "interpreter": {
   "hash": "33db5c7e3bb784b844c2c176e5e511469c44d8edbdec04c9eaa139fbb1e863e8"
  },
  "kernelspec": {
   "display_name": "Python 3.9.10 64-bit",
   "language": "python",
   "name": "python3"
  },
  "language_info": {
   "codemirror_mode": {
    "name": "ipython",
    "version": 3
   },
   "file_extension": ".py",
   "mimetype": "text/x-python",
   "name": "python",
   "nbconvert_exporter": "python",
   "pygments_lexer": "ipython3",
   "version": "3.9.10"
  },
  "orig_nbformat": 4
 },
 "nbformat": 4,
 "nbformat_minor": 2
}
